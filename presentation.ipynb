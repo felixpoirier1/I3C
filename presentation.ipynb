{
 "cells": [
  {
   "cell_type": "code",
   "execution_count": 34,
   "metadata": {},
   "outputs": [],
   "source": [
    "import numpy as np\n",
    "import pandas as pd\n",
    "import matplotlib.pyplot as plt\n",
    "import datetime as dt\n",
    "import seaborn as sns\n",
    "import os\n",
    "import folium\n",
    "from folium.plugins import MarkerCluster\n",
    "\n"
   ]
  },
  {
   "cell_type": "code",
   "execution_count": 35,
   "metadata": {},
   "outputs": [],
   "source": [
    "maps = os.listdir(\"ml/data/map\")\n",
    "maps.remove(\"us_map.npy\")\n",
    "maps_dict = {map.replace(\".npy\",\"\"): np.load(f\"ml/data/map/{map}\") for map in maps}\n",
    "xmap = np.load(\"ml/data/map/us_map.npy\")[::-1]"
   ]
  },
  {
   "cell_type": "code",
   "execution_count": 36,
   "metadata": {},
   "outputs": [],
   "source": [
    "clean = os.listdir(\"data/clean\")\n",
    "clean_dict = {file.replace(\".csv\",\"\"): pd.read_csv(f\"data/clean/{file}\") for file in clean}\n",
    "clean = list(clean_dict.keys())"
   ]
  },
  {
   "cell_type": "code",
   "execution_count": 37,
   "metadata": {},
   "outputs": [],
   "source": [
    "cities = pd.read_csv(\"american_cities.csv\").drop(columns=[\"Unnamed: 0\"])\n",
    "cities = cities.drop_duplicates(keep=\"first\", subset=[\"city\"])\n",
    "cities.set_index(\"city\", inplace=True)"
   ]
  },
  {
   "cell_type": "code",
   "execution_count": 27,
   "metadata": {},
   "outputs": [],
   "source": [
    "CITY = {\"name\": \"Kansas City\"}\n",
    "CITY[\"lat\"] = cities.loc[CITY[\"name\"]][\"lat\"]\n",
    "CITY[\"lon\"] = cities.loc[CITY[\"name\"]][\"lng\"]\n",
    "\n",
    "colors = [\"#f8b195\", \"#f67280\", \"#6C5B7B\", \"#355C7D\"]"
   ]
  },
  {
   "cell_type": "code",
   "execution_count": 32,
   "metadata": {},
   "outputs": [],
   "source": [
    "if CITY[\"name\"] == \"San Francisco\":\n",
    "    CITY[\"components\"] = [clean_dict[\"elec_stations_clean\"], clean_dict[\"docks_clean\"], clean_dict[\"airports_clean\"]]\n",
    "    CITY[\"components_name\"] = [\"Borne de recharge électrique\", \"Port\", \"Aéroports\"]\n",
    "    CITY[\"area radius\"] = 100\n",
    "\n",
    "if CITY[\"name\"] == \"New York\":\n",
    "    CITY[\"components\"] = [clean_dict[\"elec_stations_clean\"], clean_dict[\"docks_clean\"], clean_dict[\"airports_clean\"]]\n",
    "    CITY[\"components_name\"] = [\"Borne de recharge électrique\", \"Port\", \"Aéroports\"]\n",
    "    CITY[\"area radius\"] = 1000\n",
    "\n",
    "if CITY[\"name\"] == \"Kansas City\":\n",
    "    CITY[\"components\"] = [clean_dict[\"lpg_stations_clean\"], clean_dict[\"e85_stations_clean\"]]\n",
    "    CITY[\"components_name\"] = [\"Stations de gaz de pétrole liquéfié\", \"Stations superéthanol e85\"]\n",
    "    CITY[\"area radius\"] = 50"
   ]
  },
  {
   "cell_type": "code",
   "execution_count": 33,
   "metadata": {},
   "outputs": [],
   "source": [
    "item_txt = \"\"\"<br> &nbsp; {item} &nbsp; <i class=\"fa fa-circle fa-1.5x\" style=\"color:{col}\"></i> \\n\"\"\"\n",
    "\n",
    "html_itms = \"\"\n",
    "for i, name in enumerate(CITY[\"components_name\"]):\n",
    "    html_itms += item_txt.format( item=name , col=colors[i])\n",
    "\n",
    "legend_html = \"\"\"\n",
    "     <div style=\"\n",
    "     position: fixed; \n",
    "     bottom: 50px; left: 50px; width: 500px; height: 160px; \n",
    "     border:2px solid grey; z-index:9999; \n",
    "     \n",
    "     background-color:white;\n",
    "     opacity: .85;\n",
    "     \n",
    "     font-size:24px;\n",
    "     font-weight: bold;\n",
    "     \n",
    "     \">\n",
    "     &nbsp; <u>{title}</u> \n",
    "     \n",
    "     {itm_txt}\n",
    "\n",
    "      </div> \"\"\".format( title = \"Légende\" , itm_txt= html_itms)\n",
    "\n",
    "map = folium.Map(location=[CITY[\"lat\"], CITY[\"lon\"]], zoom_start=8,max_bounds=True, min_zoom=8, tiles=\"cartodbpositron\")\n",
    "\n",
    "lat_bounds = 4\n",
    "lon_bounds = 4\n",
    "\n",
    "cities = cities.loc[(cities[\"lat\"]>CITY[\"lat\"]-lat_bounds) & (cities[\"lat\"]<CITY[\"lat\"]+lat_bounds) & (cities[\"lng\"]>CITY[\"lon\"]-lon_bounds) & (cities[\"lng\"]<CITY[\"lon\"]+lon_bounds)][:10]\n",
    "for city in cities.index:\n",
    "    folium.Circle([cities.loc[city][\"lat\"], cities.loc[city][\"lng\"]], radius=cities.loc[city][\"population\"]/CITY[\"area radius\"], popup=f\"{city} population: {cities.loc[city]['population']}\", color=\"black\", fill=True,\n",
    " fill_color=\"black\", opacity=0.2).add_to(map)\n",
    " \n",
    "#diplay points on map\n",
    "for ind, component in enumerate(CITY[\"components\"]):\n",
    "    \n",
    "    for index, row in component.loc[(component[\"latitude\"]>CITY[\"lat\"]-lat_bounds) & (component[\"latitude\"]<CITY[\"lat\"]+lat_bounds) & (component[\"longitude\"]>CITY[\"lon\"]-lon_bounds) & (component[\"longitude\"]<CITY[\"lon\"]+lon_bounds)].iterrows():\n",
    "        folium.CircleMarker([row[\"latitude\"], row[\"longitude\"]], radius=1, color=colors[ind], fill=True, fill_opacity=1).add_to(map)\n",
    "\n",
    "folium.LayerControl().add_to(map)\n",
    "map.get_root().html.add_child(folium.Element( legend_html ))\n",
    "map.save(\"maps_html/kansascity.html\")"
   ]
  },
  {
   "cell_type": "code",
   "execution_count": 214,
   "metadata": {},
   "outputs": [
    {
     "name": "stdout",
     "output_type": "stream",
     "text": [
      "<class 'tuple'>\n"
     ]
    }
   ],
   "source": [
    "for val in cities.iterrows():\n",
    "    print(type(val))\n",
    "    break"
   ]
  },
  {
   "cell_type": "code",
   "execution_count": 215,
   "metadata": {},
   "outputs": [
    {
     "data": {
      "text/plain": [
       "lat                 45.5372\n",
       "lng                 -122.65\n",
       "country       United States\n",
       "population          2052796\n",
       "Name: Portland, dtype: object"
      ]
     },
     "execution_count": 215,
     "metadata": {},
     "output_type": "execute_result"
    }
   ],
   "source": [
    "cities.loc[\"Portland\"]"
   ]
  },
  {
   "cell_type": "code",
   "execution_count": 216,
   "metadata": {},
   "outputs": [
    {
     "data": {
      "text/plain": [
       "(56740, 3)"
      ]
     },
     "execution_count": 216,
     "metadata": {},
     "output_type": "execute_result"
    }
   ],
   "source": [
    "clean_dict[\"elec_stations_clean\"].shape"
   ]
  },
  {
   "cell_type": "code",
   "execution_count": 41,
   "metadata": {},
   "outputs": [
    {
     "data": {
      "text/html": [
       "<div>\n",
       "<style scoped>\n",
       "    .dataframe tbody tr th:only-of-type {\n",
       "        vertical-align: middle;\n",
       "    }\n",
       "\n",
       "    .dataframe tbody tr th {\n",
       "        vertical-align: top;\n",
       "    }\n",
       "\n",
       "    .dataframe thead th {\n",
       "        text-align: right;\n",
       "    }\n",
       "</style>\n",
       "<table border=\"1\" class=\"dataframe\">\n",
       "  <thead>\n",
       "    <tr style=\"text-align: right;\">\n",
       "      <th></th>\n",
       "      <th>longitude</th>\n",
       "      <th>latitude</th>\n",
       "      <th>val</th>\n",
       "    </tr>\n",
       "  </thead>\n",
       "  <tbody>\n",
       "    <tr>\n",
       "      <th>0</th>\n",
       "      <td>-88.522923</td>\n",
       "      <td>42.660919</td>\n",
       "      <td>1</td>\n",
       "    </tr>\n",
       "    <tr>\n",
       "      <th>1</th>\n",
       "      <td>-101.885391</td>\n",
       "      <td>35.267353</td>\n",
       "      <td>1</td>\n",
       "    </tr>\n",
       "    <tr>\n",
       "      <th>2</th>\n",
       "      <td>-68.009825</td>\n",
       "      <td>46.842162</td>\n",
       "      <td>1</td>\n",
       "    </tr>\n",
       "    <tr>\n",
       "      <th>3</th>\n",
       "      <td>-73.429554</td>\n",
       "      <td>41.082789</td>\n",
       "      <td>1</td>\n",
       "    </tr>\n",
       "    <tr>\n",
       "      <th>4</th>\n",
       "      <td>-74.232109</td>\n",
       "      <td>40.782618</td>\n",
       "      <td>1</td>\n",
       "    </tr>\n",
       "    <tr>\n",
       "      <th>...</th>\n",
       "      <td>...</td>\n",
       "      <td>...</td>\n",
       "      <td>...</td>\n",
       "    </tr>\n",
       "    <tr>\n",
       "      <th>2747</th>\n",
       "      <td>-82.736230</td>\n",
       "      <td>35.233880</td>\n",
       "      <td>1</td>\n",
       "    </tr>\n",
       "    <tr>\n",
       "      <th>2748</th>\n",
       "      <td>-79.880770</td>\n",
       "      <td>36.949560</td>\n",
       "      <td>1</td>\n",
       "    </tr>\n",
       "    <tr>\n",
       "      <th>2749</th>\n",
       "      <td>-96.211889</td>\n",
       "      <td>42.766956</td>\n",
       "      <td>1</td>\n",
       "    </tr>\n",
       "    <tr>\n",
       "      <th>2750</th>\n",
       "      <td>-95.858110</td>\n",
       "      <td>36.076870</td>\n",
       "      <td>1</td>\n",
       "    </tr>\n",
       "    <tr>\n",
       "      <th>2751</th>\n",
       "      <td>-118.743370</td>\n",
       "      <td>34.271320</td>\n",
       "      <td>1</td>\n",
       "    </tr>\n",
       "  </tbody>\n",
       "</table>\n",
       "<p>2752 rows × 3 columns</p>\n",
       "</div>"
      ],
      "text/plain": [
       "       longitude   latitude  val\n",
       "0     -88.522923  42.660919    1\n",
       "1    -101.885391  35.267353    1\n",
       "2     -68.009825  46.842162    1\n",
       "3     -73.429554  41.082789    1\n",
       "4     -74.232109  40.782618    1\n",
       "...          ...        ...  ...\n",
       "2747  -82.736230  35.233880    1\n",
       "2748  -79.880770  36.949560    1\n",
       "2749  -96.211889  42.766956    1\n",
       "2750  -95.858110  36.076870    1\n",
       "2751 -118.743370  34.271320    1\n",
       "\n",
       "[2752 rows x 3 columns]"
      ]
     },
     "execution_count": 41,
     "metadata": {},
     "output_type": "execute_result"
    }
   ],
   "source": [
    "clean_dict[\"lpg_stations_clean\"]"
   ]
  },
  {
   "cell_type": "code",
   "execution_count": null,
   "metadata": {},
   "outputs": [],
   "source": []
  }
 ],
 "metadata": {
  "kernelspec": {
   "display_name": "base",
   "language": "python",
   "name": "python3"
  },
  "language_info": {
   "codemirror_mode": {
    "name": "ipython",
    "version": 3
   },
   "file_extension": ".py",
   "mimetype": "text/x-python",
   "name": "python",
   "nbconvert_exporter": "python",
   "pygments_lexer": "ipython3",
   "version": "3.9.15"
  },
  "orig_nbformat": 4,
  "vscode": {
   "interpreter": {
    "hash": "265371ff1b98b9f4eaa16d44fb1eb5bb5e02f4557e1c68186d1d500959ccd159"
   }
  }
 },
 "nbformat": 4,
 "nbformat_minor": 2
}
